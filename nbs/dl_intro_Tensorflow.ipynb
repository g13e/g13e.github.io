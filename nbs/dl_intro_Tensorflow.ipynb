{
  "nbformat": 4,
  "nbformat_minor": 0,
  "metadata": {
    "colab": {
      "name": "dl intro - Tensorflow.ipynb",
      "provenance": [],
      "collapsed_sections": [],
      "include_colab_link": true
    },
    "kernelspec": {
      "name": "python3",
      "display_name": "Python 3"
    },
    "accelerator": "GPU"
  },
  "cells": [
    {
      "cell_type": "markdown",
      "metadata": {
        "id": "view-in-github",
        "colab_type": "text"
      },
      "source": [
        "<a href=\"https://colab.research.google.com/github/g13e/g13e.github.io/blob/master/nbs/dl_intro_Tensorflow.ipynb\" target=\"_parent\"><img src=\"https://colab.research.google.com/assets/colab-badge.svg\" alt=\"Open In Colab\"/></a>"
      ]
    },
    {
      "cell_type": "markdown",
      "metadata": {
        "id": "_AH3vyEECI8f",
        "colab_type": "text"
      },
      "source": [
        "This notebook is based on the material provided as part of the **\"Tensorflow in Practice\"** and **\"Tensorflow Data and Deployment\"** specializations by deeplearning.ai. More info here \n",
        "\n",
        "https://www.deeplearning.ai/tensorflow-in-practice/\n",
        "\n",
        "https://www.deeplearning.ai/tensorflow-data-and-deployment/\n"
      ]
    },
    {
      "cell_type": "markdown",
      "metadata": {
        "id": "mOquWIOUxMDx",
        "colab_type": "text"
      },
      "source": [
        "#Init and Utils"
      ]
    },
    {
      "cell_type": "code",
      "metadata": {
        "id": "8c6oE-IYsWXv",
        "colab_type": "code",
        "colab": {}
      },
      "source": [
        "#select TensorFlow 2.x. It should soon become the default in colab, but for now it needs to be anually selected\n",
        "try:\n",
        "    %tensorflow_version 2.x\n",
        "except:\n",
        "    pass"
      ],
      "execution_count": 0,
      "outputs": []
    },
    {
      "cell_type": "code",
      "metadata": {
        "id": "CxZnszVE_fcY",
        "colab_type": "code",
        "colab": {}
      },
      "source": [
        "# TensorFlow\n",
        "import tensorflow as tf\n",
        "\n",
        "# TensorFlow Datsets\n",
        "import tensorflow_datasets as tfds\n",
        "tfds.disable_progress_bar()\n",
        "from tensorflow.keras.preprocessing.image import ImageDataGenerator\n",
        "\n",
        "# Helper Libraries\n",
        "import numpy as np\n",
        "import matplotlib.pyplot as plt\n",
        "import pathlib\n",
        "import csv\n",
        "\n",
        "from os import getcwd\n",
        "from google.colab import files"
      ],
      "execution_count": 0,
      "outputs": []
    },
    {
      "cell_type": "code",
      "metadata": {
        "id": "Y4-DArefsznV",
        "colab_type": "code",
        "colab": {
          "base_uri": "https://localhost:8080/",
          "height": 53
        },
        "outputId": "8e9bdffa-336d-42d3-9352-a4e389b54f23"
      },
      "source": [
        "# check that TF 2.0 is being used and that runtime uses GPU. \n",
        "# TF 2.0 is required. GPU is recommended\n",
        "print('\\u2022 Using TensorFlow Version:', tf.__version__)\n",
        "print('\\u2022 GPU Device Found.' if tf.test.is_gpu_available() else '\\u2022 GPU Device Not Found. Running on CPU')\n"
      ],
      "execution_count": 40,
      "outputs": [
        {
          "output_type": "stream",
          "text": [
            "• Using TensorFlow Version: 2.1.0-rc1\n",
            "• GPU Device Found.\n"
          ],
          "name": "stdout"
        }
      ]
    },
    {
      "cell_type": "markdown",
      "metadata": {
        "id": "-k8GkBmFFd4X",
        "colab_type": "text"
      },
      "source": [
        "#Dataset\n",
        "\n",
        "For our examples we will use the [MNIST](http://yann.lecun.com/exdb/mnist/) dataset of handwritten digits.\n",
        "\n",
        "We will use [TensorFlow Datasets](https://www.tensorflow.org/datasets) to load the MNIST dataset. \n",
        "\n",
        "The tfds.load method downloads and caches the data, and returns a tf.data.Dataset object. These objects provide methods for manipulating data and piping it into your model. \n"
      ]
    },
    {
      "cell_type": "code",
      "metadata": {
        "id": "VdX-jM_-tzOB",
        "colab_type": "code",
        "colab": {}
      },
      "source": [
        "(train_images, train_labels), (test_images, test_labels) = tf.keras.datasets.mnist.load_data()"
      ],
      "execution_count": 0,
      "outputs": []
    },
    {
      "cell_type": "markdown",
      "metadata": {
        "id": "ObwUDi_awbED",
        "colab_type": "text"
      },
      "source": [
        "## Dataset Exploration"
      ]
    },
    {
      "cell_type": "code",
      "metadata": {
        "id": "l0ue6XXOwaqY",
        "colab_type": "code",
        "colab": {
          "base_uri": "https://localhost:8080/",
          "height": 126
        },
        "outputId": "733fc020-bca1-407d-ebfe-9515278714d9"
      },
      "source": [
        "#let's explore the dimentionality of the data\n",
        "print(\"train_images.shape:\", train_images.shape)\n",
        "print(\"train_images.min:\",train_images.min())\n",
        "print(\"train_images.max:\",train_images.max())\n",
        "print(\"train_labels.shape:\",train_labels.shape) \n",
        "print(\"train_labels.min:\",train_labels.min())\n",
        "print(\"train_labels.max:\",train_labels.max())"
      ],
      "execution_count": 42,
      "outputs": [
        {
          "output_type": "stream",
          "text": [
            "train_images.shape: (60000, 28, 28)\n",
            "train_images.min: 0\n",
            "train_images.max: 255\n",
            "train_labels.shape: (60000,)\n",
            "train_labels.min: 0\n",
            "train_labels.max: 9\n"
          ],
          "name": "stdout"
        }
      ]
    },
    {
      "cell_type": "code",
      "metadata": {
        "id": "7e-dcKOby3Ct",
        "colab_type": "code",
        "colab": {
          "base_uri": "https://localhost:8080/",
          "height": 265
        },
        "outputId": "f6e53d38-f20c-4c80-e70c-c67aefff4b96"
      },
      "source": [
        "#@title Visualize the dataset { run: \"auto\" }\n",
        "\n",
        "#let's visualize one of the images. \n",
        "#remember that the dataset is made up of 28*28 B/w pictures\n",
        "\n",
        "index = 764 #@param {type:\"slider\", min:0, max:1000, step:1}\n",
        "plt.rcParams['image.cmap'] = 'gray'\n",
        "img = train_images[index]\n",
        "plt.imshow(img);"
      ],
      "execution_count": 43,
      "outputs": [
        {
          "output_type": "display_data",
          "data": {
            "image/png": "[encoded data removed]",
            "text/plain": [
              "<Figure size 432x288 with 1 Axes>"
            ]
          },
          "metadata": {
            "tags": []
          }
        }
      ]
    },
    {
      "cell_type": "markdown",
      "metadata": {
        "id": "kfoVxIZpUuH2",
        "colab_type": "text"
      },
      "source": [
        "# Dataset processing (normalization, batches, etc)"
      ]
    },
    {
      "cell_type": "code",
      "metadata": {
        "id": "l1vqOFNxUz3I",
        "colab_type": "code",
        "colab": {
          "base_uri": "https://localhost:8080/",
          "height": 53
        },
        "outputId": "96048452-e8ef-4e3f-d834-a1a20d29574a"
      },
      "source": [
        "# normalize\n",
        "def normalize(x, m, s): return (x-m)/s\n",
        "\n",
        "mean,std = train_images.mean(),train_images.std()\n",
        "train_images_norm = normalize(train_images, mean, std)\n",
        "\n",
        "# NB: Use training, not validation mean for validation set\n",
        "test_images_norm = normalize(test_images, mean, std)\n",
        "\n",
        "#let's check that mean=0 and std=1\n",
        "print(\"original:\",train_images.mean(), train_images.std())\n",
        "print(\"nomalized:\",train_images_norm.mean(), train_images_norm.std())\n"
      ],
      "execution_count": 44,
      "outputs": [
        {
          "output_type": "stream",
          "text": [
            "original: 33.318421449829934 78.56748998339798\n",
            "nomalized: -3.064638490070051e-17 0.9999999999999998\n"
          ],
          "name": "stdout"
        }
      ]
    },
    {
      "cell_type": "markdown",
      "metadata": {
        "id": "QaP08YeZUF-a",
        "colab_type": "text"
      },
      "source": [
        "# Model (Network Architecture)"
      ]
    },
    {
      "cell_type": "markdown",
      "metadata": {
        "id": "XbGpGxgfZY2H",
        "colab_type": "text"
      },
      "source": [
        "Here we create a Neural Network using the (high level) Keras API. A brief explanation of the main components:\n",
        "\n",
        "**Sequential**: That defines a SEQUENCE of layers in the neural network\n",
        "\n",
        "**Flatten**: takes a multidimention (in our case 2d) input and turns it into a 1 dimensional set (an array.\n",
        "\n",
        "**Dense**: Just a regular layer of neurons for our Neural Net\n",
        "\n",
        "Each layer of neurons needs an activation function to tell them what to do. There's lots of options, but for now we will use the following:\n",
        "\n",
        "**Relu**: Rectified Linera Unit, effectively means \"If X>0 return X, else return 0\" -- so what it does it it only passes values 0 or greater to the next layer in the network.\n",
        "\n",
        "**Softmax**: takes a set of values, and effectively picks the biggest one, so, for example, if the output of the last layer looks like [0.1, 0.1, 0.05, 0.1, 9.5, 0.1, 0.05, 0.05, 0.05], it will output [0,0,0,0,1,0,0,0,0]"
      ]
    },
    {
      "cell_type": "code",
      "metadata": {
        "id": "ZgWsSst-UDZD",
        "colab_type": "code",
        "colab": {}
      },
      "source": [
        "model = tf.keras.models.Sequential([tf.keras.layers.Flatten(), \n",
        "                                    tf.keras.layers.Dense(128, activation=tf.nn.relu), \n",
        "                                    tf.keras.layers.Dense(10, activation=tf.nn.softmax)])\n",
        "\n",
        "\n"
      ],
      "execution_count": 0,
      "outputs": []
    },
    {
      "cell_type": "markdown",
      "metadata": {
        "id": "CO-3gXZeafPx",
        "colab_type": "text"
      },
      "source": [
        "The next thing to do is to build the model, by compiling it with an optimizer and loss function -- and then you train it by calling *model.fit * asking it to fit your training data to your training labels -- i.e. have it figure out the relationship between the training data and its actual labels, so in future if you have data that looks like the training data, then it can make a prediction for what that data would look like."
      ]
    },
    {
      "cell_type": "code",
      "metadata": {
        "id": "8ILiHMvdZVRP",
        "colab_type": "code",
        "colab": {}
      },
      "source": [
        "model.compile(optimizer = 'adam',\n",
        "              loss = 'sparse_categorical_crossentropy',\n",
        "              metrics=['accuracy'])"
      ],
      "execution_count": 0,
      "outputs": []
    },
    {
      "cell_type": "code",
      "metadata": {
        "id": "CItlxLMVa0ft",
        "colab_type": "code",
        "colab": {
          "base_uri": "https://localhost:8080/",
          "height": 217
        },
        "outputId": "8292f523-8e44-42f6-ad42-c9ea5c3743cd"
      },
      "source": [
        "history= model.fit(train_images_norm, train_labels, \n",
        "                   batch_size=64,\n",
        "                   epochs=5,\n",
        "                   validation_split=0.2)"
      ],
      "execution_count": 47,
      "outputs": [
        {
          "output_type": "stream",
          "text": [
            "Train on 48000 samples, validate on 12000 samples\n",
            "Epoch 1/5\n",
            "48000/48000 [==============================] - 3s 55us/sample - loss: 0.2639 - accuracy: 0.9199 - val_loss: 0.1469 - val_accuracy: 0.9553\n",
            "Epoch 2/5\n",
            "48000/48000 [==============================] - 2s 48us/sample - loss: 0.1158 - accuracy: 0.9660 - val_loss: 0.1049 - val_accuracy: 0.9689\n",
            "Epoch 3/5\n",
            "48000/48000 [==============================] - 2s 47us/sample - loss: 0.0792 - accuracy: 0.9759 - val_loss: 0.0929 - val_accuracy: 0.9716\n",
            "Epoch 4/5\n",
            "48000/48000 [==============================] - 2s 48us/sample - loss: 0.0587 - accuracy: 0.9818 - val_loss: 0.0940 - val_accuracy: 0.9705\n",
            "Epoch 5/5\n",
            "48000/48000 [==============================] - 2s 47us/sample - loss: 0.0473 - accuracy: 0.9852 - val_loss: 0.1075 - val_accuracy: 0.9678\n"
          ],
          "name": "stdout"
        }
      ]
    },
    {
      "cell_type": "markdown",
      "metadata": {
        "id": "1cSJnGwzc5ia",
        "colab_type": "text"
      },
      "source": [
        "we can also plot how accuracy and loss changes during training"
      ]
    },
    {
      "cell_type": "code",
      "metadata": {
        "id": "9EWt336ec-sC",
        "colab_type": "code",
        "colab": {
          "base_uri": "https://localhost:8080/",
          "height": 545
        },
        "outputId": "c1e53ed0-ae85-48d7-94e9-6e5ca0779b7b"
      },
      "source": [
        "import matplotlib.pyplot as plt\n",
        "acc = history.history['accuracy']\n",
        "val_acc = history.history['val_accuracy']\n",
        "loss = history.history['loss']\n",
        "val_loss = history.history['val_loss']\n",
        "\n",
        "epochs = range(len(acc))\n",
        "\n",
        "plt.plot(epochs, acc, 'r', label='Training accuracy')\n",
        "plt.plot(epochs, val_acc, 'b', label='Validation accuracy')\n",
        "plt.title('Training and validation accuracy')\n",
        "plt.legend()\n",
        "plt.figure()\n",
        "\n",
        "plt.plot(epochs, loss, 'r', label='Training Loss')\n",
        "plt.plot(epochs, val_loss, 'b', label='Validation Loss')\n",
        "plt.title('Training and validation loss')\n",
        "plt.legend()\n",
        "\n",
        "plt.show()"
      ],
      "execution_count": 50,
      "outputs": [
        {
          "output_type": "display_data",
          "data": {
            "image/png": "[encoded data removed]",
            "text/plain": [
              "<Figure size 432x288 with 1 Axes>"
            ]
          },
          "metadata": {
            "tags": []
          }
        },
        {
          "output_type": "display_data",
          "data": {
            "image/png": "[encoded data removed]",
            "text/plain": [
              "<Figure size 432x288 with 1 Axes>"
            ]
          },
          "metadata": {
            "tags": []
          }
        }
      ]
    },
    {
      "cell_type": "markdown",
      "metadata": {
        "id": "gSVgLSnrcJ12",
        "colab_type": "text"
      },
      "source": [
        "Now let's check how the model is performing on the validation set"
      ]
    },
    {
      "cell_type": "code",
      "metadata": {
        "id": "pTbCNLV9cJFC",
        "colab_type": "code",
        "colab": {
          "base_uri": "https://localhost:8080/",
          "height": 53
        },
        "outputId": "1de104ca-f236-4f68-88ca-cd2ba4891716"
      },
      "source": [
        "model.evaluate(test_images_norm, test_labels)"
      ],
      "execution_count": 51,
      "outputs": [
        {
          "output_type": "stream",
          "text": [
            "10000/10000 [==============================] - 1s 62us/sample - loss: 0.0952 - accuracy: 0.9698\n"
          ],
          "name": "stdout"
        },
        {
          "output_type": "execute_result",
          "data": {
            "text/plain": [
              "[0.09522080259276554, 0.9698]"
            ]
          },
          "metadata": {
            "tags": []
          },
          "execution_count": 51
        }
      ]
    },
    {
      "cell_type": "markdown",
      "metadata": {
        "id": "uMk4CHxzgIth",
        "colab_type": "text"
      },
      "source": [
        "We can also check single examples"
      ]
    },
    {
      "cell_type": "code",
      "metadata": {
        "id": "jcmxDAZ3gMXU",
        "colab_type": "code",
        "colab": {
          "base_uri": "https://localhost:8080/",
          "height": 283
        },
        "outputId": "624a4a8c-4be1-4297-da63-cbb73d1175b7"
      },
      "source": [
        "#@title Select test image { run: \"auto\" }\n",
        "\n",
        "index = 722 #@param {type:\"slider\", min:0, max:1000, step:1}\n",
        "plt.rcParams['image.cmap'] = 'gray'\n",
        "img = test_images[index]\n",
        "plt.imshow(img);       \n",
        "\n",
        "#predict based \n",
        "im=np.expand_dims(img,axis=0)\n",
        "im.shape\n",
        "pred=model.predict(im)\n",
        "digit=np.argmax(pred)\n",
        "print(\"Predicted Digit:\", digit)"
      ],
      "execution_count": 68,
      "outputs": [
        {
          "output_type": "stream",
          "text": [
            "Predicted Digit: 4\n"
          ],
          "name": "stdout"
        },
        {
          "output_type": "display_data",
          "data": {
            "image/png": "[encoded data removed]",
            "text/plain": [
              "<Figure size 432x288 with 1 Axes>"
            ]
          },
          "metadata": {
            "tags": []
          }
        }
      ]
    }
  ]
}